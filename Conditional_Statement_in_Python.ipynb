{
  "nbformat": 4,
  "nbformat_minor": 0,
  "metadata": {
    "colab": {
      "provenance": [],
      "authorship_tag": "ABX9TyOLnK0Brl5a/PJE1Pao+LzF",
      "include_colab_link": true
    },
    "kernelspec": {
      "name": "python3",
      "display_name": "Python 3"
    },
    "language_info": {
      "name": "python"
    }
  },
  "cells": [
    {
      "cell_type": "markdown",
      "metadata": {
        "id": "view-in-github",
        "colab_type": "text"
      },
      "source": [
        "<a href=\"https://colab.research.google.com/github/kennethculalic/CPE-21A-PLD-1-2/blob/main/Conditional_Statement_in_Python.ipynb\" target=\"_parent\"><img src=\"https://colab.research.google.com/assets/colab-badge.svg\" alt=\"Open In Colab\"/></a>"
      ]
    },
    {
      "cell_type": "markdown",
      "source": [
        "Example 1"
      ],
      "metadata": {
        "id": "G4YG65wUnH1X"
      }
    },
    {
      "cell_type": "code",
      "source": [
        "print(\"Enter a number:\")\n",
        "x = int(input())\n",
        "if x>18:\n",
        "  print(\"Qualified\")\n",
        "elif x<18:\n",
        "  print(\"Not Qualified\")"
      ],
      "metadata": {
        "colab": {
          "base_uri": "https://localhost:8080/"
        },
        "id": "9J2H0S3GnJQh",
        "outputId": "477fa5cf-fdd6-41f5-fb79-5c8080eccae8"
      },
      "execution_count": 28,
      "outputs": [
        {
          "output_type": "stream",
          "name": "stdout",
          "text": [
            "Enter a number:\n",
            "69\n",
            "Qualified\n"
          ]
        }
      ]
    },
    {
      "cell_type": "markdown",
      "source": [
        "Example 2"
      ],
      "metadata": {
        "id": "EnEpH00hnK-u"
      }
    },
    {
      "cell_type": "code",
      "source": [
        "print(\"Enter a number:\")\n",
        "x = int(input())\n",
        "if x>0:\n",
        "  print(\"POSITIVE\")\n",
        "elif x==0:\n",
        "  print(\"ZERO\")\n",
        "else:\n",
        "  print(\"NEGATIVE\")"
      ],
      "metadata": {
        "colab": {
          "base_uri": "https://localhost:8080/"
        },
        "id": "pGzgC5sPnVxK",
        "outputId": "0214ad10-95aa-4a8d-c7c8-8bdd2455b042"
      },
      "execution_count": 29,
      "outputs": [
        {
          "output_type": "stream",
          "name": "stdout",
          "text": [
            "Enter a number:\n",
            "3\n",
            "POSITIVE\n"
          ]
        }
      ]
    },
    {
      "cell_type": "markdown",
      "source": [
        "Example 3"
      ],
      "metadata": {
        "id": "BjbemuKHnOML"
      }
    },
    {
      "cell_type": "code",
      "source": [
        "print(\"Enter a number:\")\n",
        "x = int(input())\n",
        "if x<0:\n",
        "  print(\"Not Accepted\")\n",
        "elif x<75:\n",
        "  print(\"Failed\")\n",
        "if x>75:\n",
        "  print(\"Passed\")\n",
        "elif x==75:\n",
        "  print(\"Remedial\")"
      ],
      "metadata": {
        "colab": {
          "base_uri": "https://localhost:8080/"
        },
        "id": "kBI9CcWCnPgg",
        "outputId": "b623857d-80c5-4b28-b3f3-be2e9eec63dd"
      },
      "execution_count": 30,
      "outputs": [
        {
          "output_type": "stream",
          "name": "stdout",
          "text": [
            "Enter a number:\n",
            "75\n",
            "Remedial\n"
          ]
        }
      ]
    }
  ]
}