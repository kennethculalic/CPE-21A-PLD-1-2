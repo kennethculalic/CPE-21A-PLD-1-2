{
  "nbformat": 4,
  "nbformat_minor": 0,
  "metadata": {
    "colab": {
      "provenance": [],
      "authorship_tag": "ABX9TyOwdffpHD8hd3UB0aqFhSBe",
      "include_colab_link": true
    },
    "kernelspec": {
      "name": "python3",
      "display_name": "Python 3"
    },
    "language_info": {
      "name": "python"
    }
  },
  "cells": [
    {
      "cell_type": "markdown",
      "metadata": {
        "id": "view-in-github",
        "colab_type": "text"
      },
      "source": [
        "<a href=\"https://colab.research.google.com/github/kennethculalic/CPE-21A-PLD-1-2/blob/main/Object_and_Class.ipynb\" target=\"_parent\"><img src=\"https://colab.research.google.com/assets/colab-badge.svg\" alt=\"Open In Colab\"/></a>"
      ]
    },
    {
      "cell_type": "code",
      "source": [
        "class Person:\n",
        "  def __init__(self,name,age,birthdate):      #object and class constructor\n",
        "    self.name = name\n",
        "    self.age = age\n",
        "    self.birthdate = birthdate\n",
        "\n",
        "  def info(self):\n",
        "    return \"My personal info are all here\"    #method constructor\n",
        "\n",
        "class Student(Person):                        #inheritance\n",
        "  pass\n",
        "\n",
        "person = Person(\"Kenneth E. Culalic\",19,\"November 3, 2003\") #naming object\n",
        "print(\"My name is:\",person.name)\n",
        "print(\"My age is:\",person.age)\n",
        "print(\"My birthdate is:\",person.birthdate)\n",
        "print(person.info())"
      ],
      "metadata": {
        "colab": {
          "base_uri": "https://localhost:8080/"
        },
        "id": "TI-kr7vOrrvw",
        "outputId": "9ac9d689-cf23-4888-f4c2-0dd316e9e624"
      },
      "execution_count": 43,
      "outputs": [
        {
          "output_type": "stream",
          "name": "stdout",
          "text": [
            "My name is: Kenneth E. Culalic\n",
            "My age is: 19\n",
            "My birthdate is: November 3, 2003\n",
            "My personal info are all here\n"
          ]
        }
      ]
    },
    {
      "cell_type": "code",
      "source": [
        "class Shape:\n",
        "    def __init__(self):\n",
        "        pass\n",
        "\n",
        "class Rectangle(Shape):\n",
        "    def __init__(self, length, width):\n",
        "        self.length = length\n",
        "        self.width = width\n",
        "    \n",
        "    def perimeter(self):\n",
        "        return 2 * (self.length + self.width)\n",
        "    \n",
        "    def area(self):\n",
        "        return self.length * self.width\n",
        "\n",
        "rectangle = Rectangle(10, 20)\n",
        "print(\"Perimeter:\", rectangle.perimeter())\n",
        "print(\"Area:\", rectangle.area())\n",
        "     "
      ],
      "metadata": {
        "colab": {
          "base_uri": "https://localhost:8080/"
        },
        "id": "iuuESXrWsCJP",
        "outputId": "505b01c0-9073-427f-c0b6-b534759cd3ba"
      },
      "execution_count": 44,
      "outputs": [
        {
          "output_type": "stream",
          "name": "stdout",
          "text": [
            "Perimeter: 60\n",
            "Area: 200\n"
          ]
        }
      ]
    }
  ]
}