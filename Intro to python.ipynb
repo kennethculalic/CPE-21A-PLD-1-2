{
  "nbformat": 4,
  "nbformat_minor": 0,
  "metadata": {
    "colab": {
      "provenance": [],
      "authorship_tag": "ABX9TyMvqQJ0USKr23i4CL0gpeMi",
      "include_colab_link": true
    },
    "kernelspec": {
      "name": "python3",
      "display_name": "Python 3"
    },
    "language_info": {
      "name": "python"
    }
  },
  "cells": [
    {
      "cell_type": "markdown",
      "metadata": {
        "id": "view-in-github",
        "colab_type": "text"
      },
      "source": [
        "<a href=\"https://colab.research.google.com/github/kennethculalic/CPE-21A-PLD-1-2/blob/main/Intro%20to%20python.ipynb\" target=\"_parent\"><img src=\"https://colab.research.google.com/assets/colab-badge.svg\" alt=\"Open In Colab\"/></a>"
      ]
    },
    {
      "cell_type": "markdown",
      "source": [
        "Indentation"
      ],
      "metadata": {
        "id": "XVECdE7loKvS"
      }
    },
    {
      "cell_type": "code",
      "source": [
        "if 5>3:\n",
        "  print (\"5 is greater that 3\")  #This is a comment"
      ],
      "metadata": {
        "colab": {
          "base_uri": "https://localhost:8080/"
        },
        "id": "Zagox42YoMCZ",
        "outputId": "e40c6b5a-060d-4556-fa0c-7088aa994c0e"
      },
      "execution_count": 31,
      "outputs": [
        {
          "output_type": "stream",
          "name": "stdout",
          "text": [
            "5 is greater that 3\n"
          ]
        }
      ]
    },
    {
      "cell_type": "markdown",
      "source": [
        "Variable Declaration"
      ],
      "metadata": {
        "id": "iQ3r1C37oO-D"
      }
    },
    {
      "cell_type": "code",
      "source": [
        "#variable with a single value\n",
        "x=5\n",
        "y=3\n",
        "if x"
      ],
      "metadata": {
        "id": "Om1fPM_KoRgn"
      },
      "execution_count": null,
      "outputs": []
    },
    {
      "cell_type": "markdown",
      "source": [
        "Casting Type() Function"
      ],
      "metadata": {
        "id": "30JEo6WUpvws"
      }
    },
    {
      "cell_type": "code",
      "source": [
        "f = int(4)   #integer\n",
        "g=float(4)   #decimal/functional\n",
        "\n",
        "print(f)\n",
        "print(g)\n",
        "\n",
        "print(type(f))\n",
        "print(type(g))"
      ],
      "metadata": {
        "colab": {
          "base_uri": "https://localhost:8080/"
        },
        "id": "_afH9bIAqCv_",
        "outputId": "e712d17d-044d-4082-b451-d626eef2336f"
      },
      "execution_count": 40,
      "outputs": [
        {
          "output_type": "stream",
          "name": "stdout",
          "text": [
            "4\n",
            "4.0\n",
            "<class 'int'>\n",
            "<class 'float'>\n"
          ]
        }
      ]
    },
    {
      "cell_type": "markdown",
      "source": [
        "Double qoute or single qoute"
      ],
      "metadata": {
        "id": "tioxovKpqbIb"
      }
    },
    {
      "cell_type": "code",
      "source": [
        "name = \"Kenneth\"\n",
        "name1 = 'Culalic'\n",
        "\n",
        "print(name)\n",
        "print(name1)\n"
      ],
      "metadata": {
        "colab": {
          "base_uri": "https://localhost:8080/"
        },
        "id": "7e6-wZxpqgM_",
        "outputId": "7bb00712-2723-4bcb-c889-af40a6ca3bba"
      },
      "execution_count": 41,
      "outputs": [
        {
          "output_type": "stream",
          "name": "stdout",
          "text": [
            "Kenneth\n",
            "Culalic\n"
          ]
        }
      ]
    },
    {
      "cell_type": "markdown",
      "source": [
        "Case sensitive"
      ],
      "metadata": {
        "id": "UHV9cZiwqnBJ"
      }
    },
    {
      "cell_type": "code",
      "source": [
        "a = 'Kenneth'\n",
        "print(a)"
      ],
      "metadata": {
        "colab": {
          "base_uri": "https://localhost:8080/"
        },
        "id": "ApPsWZYTqokL",
        "outputId": "0537f622-e2bd-4bdb-cf0e-cddba3c60344"
      },
      "execution_count": 42,
      "outputs": [
        {
          "output_type": "stream",
          "name": "stdout",
          "text": [
            "Kenneth\n"
          ]
        }
      ]
    }
  ]
}